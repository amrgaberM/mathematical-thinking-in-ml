{
 "cells": [
  {
   "cell_type": "markdown",
   "metadata": {},
   "source": [
    "# Calculus Concepts: Exponents, Logarithms, Euler’s Number, Natural Logarithms, and Summations\n",
    "\n",
    "This notebook explores key mathematical concepts relevant to calculus, with Python code to demonstrate their properties and applications. Each section includes explanations, mathematical derivations, and visualizations using Python libraries such as NumPy and Matplotlib.\n",
    "\n",
    "## Prerequisites\n",
    "- Basic understanding of Python programming\n",
    "- Familiarity with calculus concepts (derivatives, integrals)\n",
    "- Python libraries: NumPy, Matplotlib\n",
    "\n",
    "Let's begin by setting up our environment."
   ]
  },
  {
   "cell_type": "code",
   "execution_count": null,
   "metadata": {},
   "outputs": [],
   "source": [
    "import numpy as np\n",
    "import matplotlib.pyplot as plt\n",
    "%matplotlib inline"
   ]
  },
  {
   "cell_type": "markdown",
   "metadata": {},
   "source": [
    "## 1. Exponents\n",
    "\n",
    "Exponents appear in functions that model growth, decay, and compound interest. Their derivatives and integrals are fundamental in calculus. For example, the function $f(x) = a^x$ has a derivative that depends on the base $a$.\n",
    "\n",
    "**Question**: Why is the derivative of an exponential function unique? Let's explore with $f(x) = 2^x$.\n",
    "\n",
    "**Code**: Plot $f(x) = 2^x$ and approximate its derivative numerically."
   ]
  },
  {
   "cell_type": "code",
   "execution_count": null,
   "metadata": {},
   "outputs": [],
   "source": [
    "# Define the exponential function\n",
    "x = np.linspace(-2, 2, 100)\n",
    "f = 2**x\n",
    "\n",
    "# Numerical derivative\n",
    "dx = x[1] - x[0]\n",
    "f_deriv = np.diff(f) / dx\n",
    "\n",
    "# Plot\n",
    "plt.figure(figsize=(8, 5))\n",
    "plt.plot(x, f, label='$f(x) = 2^x$')\n",
    "plt.plot(x[:-1], f_deriv, label=\"Numerical derivative\")\n",
    "plt.title('Exponential Function and Its Derivative')\n",
    "plt.xlabel('x')\n",
    "plt.ylabel('y')\n",
    "plt.legend()\n",
    "plt.grid(True)\n",
    "plt.show()"
   ]
  },
  {
   "cell_type": "markdown",
   "metadata": {},
   "source": [
    "**Reflection**: What do you notice about the shape of the derivative compared to the original function? How might this relate to the chain rule?\n",
    "\n",
    "## 2. Logarithms\n",
    "\n",
    "Logarithms simplify derivatives and integrals, especially for products and quotients. The logarithm rule, $\\ln(ab) = \\ln(a) + \\ln(b)$, is particularly useful.\n",
    "\n",
    "**Question**: How does the logarithm function behave, and what is its derivative? Let's plot $f(x) = \\log_{10}(x)$ and $f(x) = \\ln(x)$.\n",
    "\n",
    "**Code**: Visualize logarithmic functions."
   ]
  },
  {
   "cell_type": "code",
   "execution_count": null,
   "metadata": {},
   "outputs": [],
   "source": [
    "# Logarithmic functions\n",
    "x = np.linspace(0.1, 5, 100)\n",
    "log10_x = np.log10(x)\n",
    "ln_x = np.log(x)\n",
    "\n",
    "# Plot\n",
    "plt.figure(figsize=(8, 5))\n",
    "plt.plot(x, log10_x, label='$f(x) = \\log_{10}(x)$')\n",
    "plt.plot(x, ln_x, label='$f(x) = \\ln(x)$')\n",
    "plt.title('Logarithmic Functions')\n",
    "plt.xlabel('x')\n",
    "plt.ylabel('y')\n",
    "plt.legend()\n",
    "plt.grid(True)\n",
    "plt.show()"
   ]
  },
  {
   "cell_type": "markdown",
   "metadata": {},
   "source": [
    "**Reflection**: Why does the natural logarithm grow more slowly than the base-10 logarithm? What does this suggest about their derivatives?\n",
    "\n",
    "## 3. Euler’s Number (e)\n",
    "\n",
    "Euler’s number, $e \\approx 2.718$, is unique because the derivative of $e^x$ is itself. This property makes it central to calculus.\n",
    "\n",
    "**Question**: How can we demonstrate that $\\frac{d}{dx}e^x = e^x$ numerically?\n",
    "\n",
    "**Code**: Plot $e^x$ and its numerical derivative."
   ]
  },
  {
   "cell_type": "code",
   "execution_count": null,
   "metadata": {},
   "outputs": [],
   "source": [
    "# Exponential function with base e\n",
    "x = np.linspace(-2, 2, 100)\n",
    "f = np.exp(x)\n",
    "f_deriv = np.diff(f) / dx\n",
    "\n",
    "# Plot\n",
    "plt.figure(figsize=(8, 5))\n",
    "plt.plot(x, f, label='$f(x) = e^x$')\n",
    "plt.plot(x[:-1], f_deriv, label='Numerical derivative')\n",
    "plt.title('Exponential Function $e^x$ and Its Derivative')\n",
    "plt.xlabel('x')\n",
    "plt.ylabel('y')\n",
    "plt.legend()\n",
    "plt.grid(True)\n",
    "plt.show()"
   ]
  },
  {
   "cell_type": "markdown",
   "metadata": {},
   "source": [
    "**Reflection**: How does the derivative of $e^x$ compare to that of $2^x$? Why is $e$ special in calculus?\n",
    "\n",
    "## 4. Natural Logarithms\n",
    "\n",
    "The natural logarithm, $\\ln(x)$, is the inverse of $e^x$. Its derivative is $\\frac{1}{x}$, which is crucial in integration.\n",
    "\n",
    "**Question**: Can we verify the derivative of $\\ln(x)$ numerically?\n",
    "\n",
    "**Code**: Plot $\\ln(x)$ and its derivative."
   ]
  },
  {
   "cell_type": "code",
   "execution_count": null,
   "metadata": {},
   "outputs": [],
   "source": [
    "# Natural logarithm\n",
    "x = np.linspace(0.1, 5, 100)\n",
    "f = np.log(x)\n",
    "f_deriv = np.diff(f) / dx\n",
    "\n",
    "# Plot\n",
    "plt.figure(figsize=(8, 5))\n",
    "plt.plot(x, f, label='$f(x) = \\ln(x)$')\n",
    "plt.plot(x[:-1], f_deriv, label='Numerical derivative ($1/x$)')\n",
    "plt.title('Natural Logarithm and Its Derivative')\n",
    "plt.xlabel('x')\n",
    "plt.ylabel('y')\n",
    "plt.legend()\n",
    "plt.grid(True)\n",
    "plt.show()"
   ]
  },
  {
   "cell_type": "markdown",
   "metadata": {},
   "source": [
    "**Reflection**: How does the derivative $1/x$ behave as $x$ increases? What does this imply for integrals involving $\\ln(x)$?\n",
    "\n",
    "## 5. Summations\n",
    "\n",
    "Summations represent discrete accumulation, akin to integration in continuous settings. They are foundational in numerical methods.\n",
    "\n",
    "**Question**: How can we compute a summation and relate it to an integral? Let’s try summing $f(i) = i^2$ from 1 to $n$.\n",
    "\n",
    "**Code**: Compute and visualize a summation."
   ]
  },
  {
   "cell_type": "code",
   "execution_count": null,
   "metadata": {},
   "outputs": [],
   "source": [
    "# Summation of i^2\n",
    "n = 50\n",
    "i = np.arange(1, n+1)\n",
    "f = i**2\n",
    "sum_f = np.cumsum(f)\n",
    "\n",
    "# Plot\n",
    "plt.figure(figsize=(8, 5))\n",
    "plt.plot(i, sum_f, label='$\\sum_{i=1}^n i^2$')\n",
    "plt.title('Cumulative Summation of $i^2$')\n",
    "plt.xlabel('n')\n",
    "plt.ylabel('Sum')\n",
    "plt.legend()\n",
    "plt.grid(True)\n",
    "plt.show()\n",
    "\n",
    "# Analytical result\n",
    "analytical_sum = n * (n + 1) * (2 * n + 1) / 6\n",
    "print(f'Sum of i^2 from 1 to {n} = {sum_f[-1]} (numerical), {analytical_sum} (analytical)')"
   ]
  },
  {
   "cell_type": "markdown",
   "metadata": {},
   "source": [
    "**Reflection**: How does the cumulative sum relate to the integral of $x^2$? What happens as $n$ increases?\n",
    "\n",
    "## Conclusion\n",
    "\n",
    "This notebook demonstrated the properties of exponents, logarithms, Euler’s number, natural logarithms, and summations using Python. Reflect on how these concepts interconnect in calculus. What other applications or examples would you like to explore?"
   ]
  }
 ],
 "metadata": {
  "kernelspec": {
   "display_name": "Python 3",
   "language": "python",
   "name": "python3"
  },
  "language_info": {
   "codemirror_mode": {
    "name": "ipython",
    "version": 3
   },
   "file_extension": ".py",
   "mimetype": "text/x-python",
   "name": "python",
   "nbconvert_exporter": "python",
   "pygments_lexer": "ipython3",
   "version": "3.8.5"
  }
 },
 "nbformat": 4,
 "nbformat_minor": 4
}