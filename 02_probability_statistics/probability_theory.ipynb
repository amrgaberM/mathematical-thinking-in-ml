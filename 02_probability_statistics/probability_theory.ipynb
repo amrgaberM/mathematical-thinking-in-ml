{
  "nbformat": 4,
  "nbformat_minor": 0,
  "metadata": {
    "colab": {
      "provenance": []
    },
    "kernelspec": {
      "name": "python3",
      "display_name": "Python 3"
    },
    "language_info": {
      "name": "python"
    }
  },
  "cells": [
    {
      "cell_type": "markdown",
      "source": [
        "# Probability and Statistics Tutorial\n",
        "\n",
        "This notebook covers **Conditional Probability**, **Bayes' Theorem**, **Binomial Distribution**, and **Beta Distribution**. The JSON structure is corrected to avoid parsing errors, and content is streamlined for clarity.\n",
        "\n",
        "## Table of Contents\n",
        "- [Conditional Probability and Bayes' Theorem](#conditional-probability-and-bayes-theorem)\n",
        "- [Binomial Distribution](#binomial-distribution)\n",
        "- [Beta Distribution](#beta-distribution)\n",
        "- [Practice Questions](#practice-questions)\n"
      ],
      "metadata": {}
    },
    {
      "cell_type": "markdown",
      "source": [
        "## Conditional Probability and Bayes' Theorem\n",
        "\n",
        "**Conditional Probability** measures the probability of event A given event B: P(A|B).\n",
        "\n",
        "**Bayes' Theorem** reverses this:\n",
        "\\[ P(A|B) = \\frac{P(B|A) \\cdot P(A)}{P(B)} \\]\n",
        "where:\n",
        "- P(A|B): Probability of A given B.\n",
        "- P(B|A): Probability of B given A.\n",
        "- P(A), P(B): Prior probabilities.\n",
        "\n",
        "### Example: Coffee and Cancer\n",
        "Given:\n",
        "- P(Coffee) = 0.65\n",
        "- P(Cancer) = 0.005\n",
        "- P(Coffee|Cancer) = 0.85\n",
        "\n",
        "Calculate P(Cancer|Coffee).\n"
      ],
      "metadata": {}
    },
    {
      "cell_type": "code",
      "source": [
        "# Calculate P(Cancer|Coffee) using Bayes' Theorem\n",
        "P_coffee = 0.65                # P(Coffee)\n",
        "P_cancer = 0.005               # P(Cancer)\n",
        "P_coffee_given_cancer = 0.85   # P(Coffee|Cancer)\n",
        "\n",
        "P_cancer_given_coffee = (P_coffee_given_cancer * P_cancer) / P_coffee\n",
        "print(f\"Probability of cancer given coffee drinker: {P_cancer_given_coffee:.6f}\")\n"
      ],
      "metadata": {},
      "execution_count": null,
      "outputs": []
    },
    {
      "cell_type": "markdown",
      "source": [
        "The result (~0.65%) shows the low probability of cancer among coffee drinkers.\n"
      ],
      "metadata": {}
    },
    {
      "cell_type": "markdown",
      "source": [
        "## Binomial Distribution\n",
        "\n",
        "The **Binomial Distribution** models successes in n independent trials, each with success probability p.\n",
        "\n",
        "**PMF**:\n",
        "\\[ P(X = k) = \\binom{n}{k} p^k (1-p)^{n-k} \\]\n",
        "\n",
        "**Properties**:\n",
        "- n: Number of trials.\n",
        "- p: Success probability.\n",
        "- Mean: np, Variance: np(1-p).\n",
        "\n",
        "### Example: Classifier Accuracy\n",
        "A classifier with 80% accuracy (p = 0.8) runs on 10 trials (n = 10). Compute probabilities for all successes.\n"
      ],
      "metadata": {}
    },
    {
      "cell_type": "code",
      "source": [
        "from scipy.stats import binom\n",
        "\n",
        "# Parameters\n",
        "n_trials = 10\n",
        "p_success = 0.8\n",
        "\n",
        "# Compute PMF for k = 0 to 10\n",
        "print(\"Number of Successes (k) | Probability\")\n",
        "print(\"----------------------------------\")\n",
        "for k in range(n_trials + 1):\n",
        "    probability = binom.pmf(k, n_trials, p_success)\n",
        "    print(f\"{k:>19} | {probability:.6f}\")\n"
      ],
      "metadata": {},
      "execution_count": null,
      "outputs": []
    },
    {
      "cell_type": "markdown",
      "source": [
        "| Function | Description                  | Python Code                 |\n",
        "|----------|------------------------------|-----------------------------|\n",
        "| PMF      | P(X = k)                     | binom.pmf(k, n, p)         |\n",
        "| CDF      | P(X <= k)                    | binom.cdf(k, n, p)         |\n"
      ],
      "metadata": {}
    },
    {
      "cell_type": "markdown",
      "source": [
        "## Beta Distribution\n",
        "\n",
        "The **Beta Distribution** models probabilities on [0, 1].\n",
        "\n",
        "**Properties**:\n",
        "- Parameters: alpha (successes), beta (failures).\n",
        "- PDF: \\[ f(x) \\propto x^{\\alpha-1} (1-x)^{\\beta-1} \\]\n",
        "- Mean: \\[ \\frac{\\alpha}{\\alpha + \\beta} \\]\n",
        "- Posterior: Beta(alpha + s, beta + f) after s successes, f failures.\n",
        "\n",
        "### Example: Posterior Distribution\n",
        "With 6 successes, 4 failures, and a uniform prior (Beta(1, 1)), compute and plot the posterior.\n"
      ],
      "metadata": {}
    },
    {
      "cell_type": "code",
      "source": [
        "from scipy.stats import beta\n",
        "import numpy as np\n",
        "import matplotlib.pyplot as plt\n",
        "\n",
        "# Observed data\n",
        "successes = 6\n",
        "failures = 4\n",
        "alpha_prior = 1\n",
        "beta_prior = 1\n",
        "\n",
        "# Posterior parameters\n",
        "alpha_post = alpha_prior + successes\n",
        "beta_post = beta_prior + failures\n",
        "\n",
        "# Plot posterior\n",
        "x = np.linspace(0, 1, 100)\n",
        "y = beta.pdf(x, alpha_post, beta_post)\n",
        "plt.figure(figsize=(8, 5))\n",
        "plt.plot(x, y, label=f'Beta({alpha_post}, {beta_post})', color='blue')\n",
        "plt.fill_between(x, y, alpha=0.1, color='blue')\n",
        "plt.title('Posterior Distribution of Success Probability')\n",
        "plt.xlabel('Success Probability')\n",
        "plt.ylabel('Density')\n",
        "plt.legend()\n",
        "plt.grid(True, alpha=0.3)\n",
        "plt.show()\n",
        "\n",
        "# Compute mean\n",
        "mean_estimate = alpha_post / (alpha_post + beta_post)\n",
        "print(f'Mean of posterior: {mean_estimate:.3f}')\n"
      ],
      "metadata": {},
      "execution_count": null,
      "outputs": []
    },
    {
      "cell_type": "markdown",
      "source": [
        "The posterior is Beta(7, 5), with mean 0.583.\n"
      ],
      "metadata": {}
    },
    {
      "cell_type": "markdown",
      "source": [
        "## Practice Questions\n",
        "\n",
        "### Q1: Binomial Distribution\n",
        "For the classifier (n = 10, p = 0.8), compute P(X = 8).\n"
      ],
      "metadata": {}
    },
    {
      "cell_type": "code",
      "source": [
        "from scipy.stats import binom\n",
        "\n",
        "n_trials = 10\n",
        "p_success = 0.8\n",
        "k_successes = 8\n",
        "probability = binom.pmf(k_successes, n_trials, p_success)\n",
        "print(f'Probability of exactly 8 correct predictions: {probability:.6f}')\n"
      ],
      "metadata": {},
      "execution_count": null,
      "outputs": []
    },
    {
      "cell_type": "markdown",
      "source": [
        "### Q2: Beta Distribution\n",
        "For the posterior Beta(7, 5), compute P(p <= 0.9).\n"
      ],
      "metadata": {}
    },
    {
      "cell_type": "code",
      "source": [
        "from scipy.stats import beta\n",
        "\n",
        "alpha_post = 7\n",
        "beta_post = 5\n",
        "prob = beta.cdf(0.9, alpha_post, beta_post)\n",
        "print(f'Probability that success probability is at most 0.9: {prob:.3f}')\n"
      ],
      "metadata": {},
      "execution_count": null,
      "outputs": []
    }
  ]
}